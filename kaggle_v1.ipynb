{
 "cells": [
  {
   "cell_type": "markdown",
   "id": "a035dc77",
   "metadata": {},
   "source": [
    "# Import library"
   ]
  },
  {
   "cell_type": "code",
   "execution_count": 23,
   "id": "ad0926f7",
   "metadata": {},
   "outputs": [],
   "source": [
    "import datetime\n",
    "import numpy as np\n",
    "import pandas as pd\n",
    "from scipy.io import loadmat\n",
    "from sklearn.preprocessing import MinMaxScaler\n",
    "from sklearn.metrics import mean_squared_error\n",
    "from sklearn import metrics\n",
    "import matplotlib.pyplot as plt\n",
    "import seaborn as sns"
   ]
  },
  {
   "cell_type": "markdown",
   "id": "6b7dbf5c",
   "metadata": {},
   "source": [
    "# Loading dataset"
   ]
  },
  {
   "cell_type": "code",
   "execution_count": 24,
   "id": "e667a9d1",
   "metadata": {},
   "outputs": [
    {
     "name": "stdout",
     "output_type": "stream",
     "text": [
      "Total data in dataset:  616\n",
      "[1, np.uint8(24), datetime.datetime(2008, 4, 2, 15, 25, 41), np.float64(1.8564874208181574), np.float64(4.191491807505295), np.float64(-0.004901589207462691), np.float64(24.330033885570543), np.float64(-0.0006), np.float64(0.0), np.float64(0.0)]\n",
      "   cycle  ambient_temperature            datetime  capacity  voltage_measured  \\\n",
      "0      1                   24 2008-04-02 15:25:41  1.856487          4.191492   \n",
      "1      1                   24 2008-04-02 15:25:41  1.856487          4.190749   \n",
      "2      1                   24 2008-04-02 15:25:41  1.856487          3.974871   \n",
      "3      1                   24 2008-04-02 15:25:41  1.856487          3.951717   \n",
      "4      1                   24 2008-04-02 15:25:41  1.856487          3.934352   \n",
      "\n",
      "   current_measured  temperature_measured  current_load  voltage_load    time  \n",
      "0         -0.004902             24.330034       -0.0006         0.000   0.000  \n",
      "1         -0.001478             24.325993       -0.0006         4.206  16.781  \n",
      "2         -2.012528             24.389085       -1.9982         3.062  35.703  \n",
      "3         -2.013979             24.544752       -1.9982         3.030  53.781  \n",
      "4         -2.011144             24.731385       -1.9982         3.011  71.922  \n"
     ]
    },
    {
     "data": {
      "text/html": [
       "<div>\n",
       "<style scoped>\n",
       "    .dataframe tbody tr th:only-of-type {\n",
       "        vertical-align: middle;\n",
       "    }\n",
       "\n",
       "    .dataframe tbody tr th {\n",
       "        vertical-align: top;\n",
       "    }\n",
       "\n",
       "    .dataframe thead th {\n",
       "        text-align: right;\n",
       "    }\n",
       "</style>\n",
       "<table border=\"1\" class=\"dataframe\">\n",
       "  <thead>\n",
       "    <tr style=\"text-align: right;\">\n",
       "      <th></th>\n",
       "      <th>cycle</th>\n",
       "      <th>ambient_temperature</th>\n",
       "      <th>datetime</th>\n",
       "      <th>capacity</th>\n",
       "      <th>voltage_measured</th>\n",
       "      <th>current_measured</th>\n",
       "      <th>temperature_measured</th>\n",
       "      <th>current_load</th>\n",
       "      <th>voltage_load</th>\n",
       "      <th>time</th>\n",
       "    </tr>\n",
       "  </thead>\n",
       "  <tbody>\n",
       "    <tr>\n",
       "      <th>count</th>\n",
       "      <td>50285.000000</td>\n",
       "      <td>50285.0</td>\n",
       "      <td>50285</td>\n",
       "      <td>50285.000000</td>\n",
       "      <td>50285.000000</td>\n",
       "      <td>50285.000000</td>\n",
       "      <td>50285.000000</td>\n",
       "      <td>50285.000000</td>\n",
       "      <td>50285.000000</td>\n",
       "      <td>50285.000000</td>\n",
       "    </tr>\n",
       "    <tr>\n",
       "      <th>mean</th>\n",
       "      <td>88.125942</td>\n",
       "      <td>24.0</td>\n",
       "      <td>2008-05-07 01:58:43.570826240</td>\n",
       "      <td>1.560345</td>\n",
       "      <td>3.515268</td>\n",
       "      <td>-1.806032</td>\n",
       "      <td>32.816991</td>\n",
       "      <td>1.362700</td>\n",
       "      <td>2.308406</td>\n",
       "      <td>1546.208924</td>\n",
       "    </tr>\n",
       "    <tr>\n",
       "      <th>min</th>\n",
       "      <td>1.000000</td>\n",
       "      <td>24.0</td>\n",
       "      <td>2008-04-02 15:25:41</td>\n",
       "      <td>1.287453</td>\n",
       "      <td>2.455679</td>\n",
       "      <td>-2.029098</td>\n",
       "      <td>23.214802</td>\n",
       "      <td>-1.998400</td>\n",
       "      <td>0.000000</td>\n",
       "      <td>0.000000</td>\n",
       "    </tr>\n",
       "    <tr>\n",
       "      <th>25%</th>\n",
       "      <td>50.000000</td>\n",
       "      <td>24.0</td>\n",
       "      <td>2008-04-29 22:00:04</td>\n",
       "      <td>1.386229</td>\n",
       "      <td>3.399384</td>\n",
       "      <td>-2.013415</td>\n",
       "      <td>30.019392</td>\n",
       "      <td>1.998000</td>\n",
       "      <td>2.388000</td>\n",
       "      <td>768.563000</td>\n",
       "    </tr>\n",
       "    <tr>\n",
       "      <th>50%</th>\n",
       "      <td>88.000000</td>\n",
       "      <td>24.0</td>\n",
       "      <td>2008-05-07 21:56:09</td>\n",
       "      <td>1.538237</td>\n",
       "      <td>3.511664</td>\n",
       "      <td>-2.012312</td>\n",
       "      <td>32.828944</td>\n",
       "      <td>1.998200</td>\n",
       "      <td>2.533000</td>\n",
       "      <td>1537.031000</td>\n",
       "    </tr>\n",
       "    <tr>\n",
       "      <th>75%</th>\n",
       "      <td>127.000000</td>\n",
       "      <td>24.0</td>\n",
       "      <td>2008-05-18 03:05:19</td>\n",
       "      <td>1.746871</td>\n",
       "      <td>3.660903</td>\n",
       "      <td>-2.011052</td>\n",
       "      <td>35.920887</td>\n",
       "      <td>1.998200</td>\n",
       "      <td>2.690000</td>\n",
       "      <td>2305.984000</td>\n",
       "    </tr>\n",
       "    <tr>\n",
       "      <th>max</th>\n",
       "      <td>168.000000</td>\n",
       "      <td>24.0</td>\n",
       "      <td>2008-05-27 20:45:42</td>\n",
       "      <td>1.856487</td>\n",
       "      <td>4.222920</td>\n",
       "      <td>0.007496</td>\n",
       "      <td>41.450232</td>\n",
       "      <td>1.998400</td>\n",
       "      <td>4.238000</td>\n",
       "      <td>3690.234000</td>\n",
       "    </tr>\n",
       "    <tr>\n",
       "      <th>std</th>\n",
       "      <td>45.699687</td>\n",
       "      <td>0.0</td>\n",
       "      <td>NaN</td>\n",
       "      <td>0.182380</td>\n",
       "      <td>0.231778</td>\n",
       "      <td>0.610502</td>\n",
       "      <td>3.987515</td>\n",
       "      <td>1.313698</td>\n",
       "      <td>0.800300</td>\n",
       "      <td>906.640295</td>\n",
       "    </tr>\n",
       "  </tbody>\n",
       "</table>\n",
       "</div>"
      ],
      "text/plain": [
       "              cycle  ambient_temperature                       datetime  \\\n",
       "count  50285.000000              50285.0                          50285   \n",
       "mean      88.125942                 24.0  2008-05-07 01:58:43.570826240   \n",
       "min        1.000000                 24.0            2008-04-02 15:25:41   \n",
       "25%       50.000000                 24.0            2008-04-29 22:00:04   \n",
       "50%       88.000000                 24.0            2008-05-07 21:56:09   \n",
       "75%      127.000000                 24.0            2008-05-18 03:05:19   \n",
       "max      168.000000                 24.0            2008-05-27 20:45:42   \n",
       "std       45.699687                  0.0                            NaN   \n",
       "\n",
       "           capacity  voltage_measured  current_measured  temperature_measured  \\\n",
       "count  50285.000000      50285.000000      50285.000000          50285.000000   \n",
       "mean       1.560345          3.515268         -1.806032             32.816991   \n",
       "min        1.287453          2.455679         -2.029098             23.214802   \n",
       "25%        1.386229          3.399384         -2.013415             30.019392   \n",
       "50%        1.538237          3.511664         -2.012312             32.828944   \n",
       "75%        1.746871          3.660903         -2.011052             35.920887   \n",
       "max        1.856487          4.222920          0.007496             41.450232   \n",
       "std        0.182380          0.231778          0.610502              3.987515   \n",
       "\n",
       "       current_load  voltage_load          time  \n",
       "count  50285.000000  50285.000000  50285.000000  \n",
       "mean       1.362700      2.308406   1546.208924  \n",
       "min       -1.998400      0.000000      0.000000  \n",
       "25%        1.998000      2.388000    768.563000  \n",
       "50%        1.998200      2.533000   1537.031000  \n",
       "75%        1.998200      2.690000   2305.984000  \n",
       "max        1.998400      4.238000   3690.234000  \n",
       "std        1.313698      0.800300    906.640295  "
      ]
     },
     "execution_count": 24,
     "metadata": {},
     "output_type": "execute_result"
    }
   ],
   "source": [
    "def load_data(battery):\n",
    "  mat = loadmat('battery_data/' + battery + '.mat')\n",
    "  print('Total data in dataset: ', len(mat[battery][0, 0]['cycle'][0]))\n",
    "  counter = 0\n",
    "  dataset = []\n",
    "  capacity_data = []\n",
    "  \n",
    "  for i in range(len(mat[battery][0, 0]['cycle'][0])):\n",
    "    row = mat[battery][0, 0]['cycle'][0, i]\n",
    "    if row['type'][0] == 'discharge':\n",
    "      ambient_temperature = row['ambient_temperature'][0][0]\n",
    "      date_time = datetime.datetime(int(row['time'][0][0]),\n",
    "                               int(row['time'][0][1]),\n",
    "                               int(row['time'][0][2]),\n",
    "                               int(row['time'][0][3]),\n",
    "                               int(row['time'][0][4])) + datetime.timedelta(seconds=int(row['time'][0][5]))\n",
    "      data = row['data']\n",
    "      capacity = data[0][0]['Capacity'][0][0]\n",
    "      for j in range(len(data[0][0]['Voltage_measured'][0])):\n",
    "        voltage_measured = data[0][0]['Voltage_measured'][0][j]\n",
    "        current_measured = data[0][0]['Current_measured'][0][j]\n",
    "        temperature_measured = data[0][0]['Temperature_measured'][0][j]\n",
    "        current_load = data[0][0]['Current_load'][0][j]\n",
    "        voltage_load = data[0][0]['Voltage_load'][0][j]\n",
    "        time = data[0][0]['Time'][0][j]\n",
    "        dataset.append([counter + 1, ambient_temperature, date_time, capacity,\n",
    "                        voltage_measured, current_measured,\n",
    "                        temperature_measured, current_load,\n",
    "                        voltage_load, time])\n",
    "      capacity_data.append([counter + 1, ambient_temperature, date_time, capacity])\n",
    "      counter = counter + 1\n",
    "  print(dataset[0])\n",
    "  return [pd.DataFrame(data=dataset,\n",
    "                       columns=['cycle', 'ambient_temperature', 'datetime',\n",
    "                                'capacity', 'voltage_measured',\n",
    "                                'current_measured', 'temperature_measured',\n",
    "                                'current_load', 'voltage_load', 'time']),\n",
    "          pd.DataFrame(data=capacity_data,\n",
    "                       columns=['cycle', 'ambient_temperature', 'datetime',\n",
    "                                'capacity'])]\n",
    "dataset, capacity = load_data('B0005')\n",
    "pd.set_option('display.max_columns', 10)\n",
    "print(dataset.head())\n",
    "dataset.describe()"
   ]
  },
  {
   "cell_type": "markdown",
   "id": "0704d86f",
   "metadata": {},
   "source": [
    "# Training the model\n",
    "Calculate SoH and preparing the training dataset"
   ]
  },
  {
   "cell_type": "markdown",
   "id": "c4a5dc94",
   "metadata": {},
   "source": [
    "Function to Calculate SoC"
   ]
  },
  {
   "cell_type": "code",
   "execution_count": 25,
   "id": "e23cf295",
   "metadata": {},
   "outputs": [],
   "source": [
    "def CalculateSoC(pSoc, capacity, current, ptime, ctime):\n",
    "    # Convert capacity Ah to As\n",
    "    capacity = capacity * 3600  \n",
    "\n",
    "    # Calculate the time difference\n",
    "    delta_time = ctime - ptime\n",
    "    \n",
    "    # Calculate the integral assuming constant current\n",
    "    integral_current = current * delta_time\n",
    "    \n",
    "    # Calculate the SoC\n",
    "    SoC = pSoc + (1 / capacity) * integral_current\n",
    "    # Ensure SoC is between 0 and 100\n",
    "    SoC = max(0, min(SoC, 1))  \n",
    "    \n",
    "    return SoC"
   ]
  },
  {
   "cell_type": "markdown",
   "id": "eac24848",
   "metadata": {},
   "source": [
    "Calculate SoC for dataset"
   ]
  },
  {
   "cell_type": "code",
   "execution_count": 26,
   "id": "49fb4cdf",
   "metadata": {},
   "outputs": [
    {
     "name": "stdout",
     "output_type": "stream",
     "text": [
      "            SoC\n",
      "49685  0.000004\n",
      "49686  0.000005\n",
      "49687  1.000000\n",
      "49688  0.999993\n",
      "49689  0.995635\n",
      "...         ...\n",
      "50280  0.000002\n",
      "50281  0.000000\n",
      "50282  0.000000\n",
      "50283  0.000003\n",
      "50284  0.000001\n",
      "\n",
      "[600 rows x 1 columns]\n"
     ]
    }
   ],
   "source": [
    "attrib = ['cycle', 'time', 'capacity', 'current_measured']\n",
    "soc_data = dataset[attrib].copy()\n",
    "SoC = [1.0]  # Initial SoC\n",
    "\n",
    "for i in range(1, len(soc_data)):\n",
    "    if soc_data['cycle'][i] != soc_data['cycle'][i - 1]:\n",
    "        # Reset SoC to 1.0 at the beginning of each cycle\n",
    "        SoC.append(1.0)\n",
    "        continue\n",
    "    # Calculate SoC using the previous cycle's data\n",
    "    ptime = soc_data['time'][i - 1]\n",
    "    ctime = soc_data['time'][i]\n",
    "    pSoc = SoC[i - 1]\n",
    "    capacity = soc_data['capacity'][i]\n",
    "    current = soc_data['current_measured'][i]\n",
    "    SoC.append(CalculateSoC(pSoc, capacity, current, ptime, ctime))\n",
    "\n",
    "SoC = pd.DataFrame(data=SoC, columns=['SoC'])\n",
    "print(SoC.tail(600))"
   ]
  },
  {
   "cell_type": "markdown",
   "id": "4ee35e34",
   "metadata": {},
   "source": [
    "Create the training dataset"
   ]
  },
  {
   "cell_type": "code",
   "execution_count": 27,
   "id": "2affaad3",
   "metadata": {},
   "outputs": [
    {
     "name": "stdout",
     "output_type": "stream",
     "text": [
      "(50285, 7)\n",
      "(50285, 1)\n"
     ]
    }
   ],
   "source": [
    "attribs=['capacity', 'voltage_measured', 'current_measured',\n",
    "         'temperature_measured', 'current_load', 'voltage_load', 'time']\n",
    "train_dataset = dataset[attribs]\n",
    "sc = MinMaxScaler(feature_range=(0,1))\n",
    "train_dataset = sc.fit_transform(train_dataset)\n",
    "print(train_dataset.shape)\n",
    "print(SoC.shape)"
   ]
  },
  {
   "cell_type": "markdown",
   "id": "3b8b6d53",
   "metadata": {},
   "source": [
    "Import tensorflow"
   ]
  },
  {
   "cell_type": "code",
   "execution_count": 28,
   "id": "f88a6c7f",
   "metadata": {},
   "outputs": [],
   "source": [
    "import tensorflow as tf\n",
    "from tensorflow.keras.models import Sequential\n",
    "from tensorflow.keras.layers import Dense\n",
    "from tensorflow.keras.layers import Dropout\n",
    "from tensorflow.keras.layers import Flatten\n",
    "from tensorflow.keras.layers import LSTM\n",
    "from tensorflow.keras.optimizers import Adam"
   ]
  },
  {
   "cell_type": "code",
   "execution_count": 29,
   "id": "4c140326",
   "metadata": {},
   "outputs": [
    {
     "name": "stderr",
     "output_type": "stream",
     "text": [
      "d:\\Projects-Ng\\Battery_SoC_Estimation_Using_RSNN\\myvenv\\lib\\site-packages\\keras\\src\\layers\\core\\dense.py:87: UserWarning: Do not pass an `input_shape`/`input_dim` argument to a layer. When using Sequential models, prefer using an `Input(shape)` object as the first layer in the model instead.\n",
      "  super().__init__(activity_regularizer=activity_regularizer, **kwargs)\n"
     ]
    },
    {
     "data": {
      "text/html": [
       "<pre style=\"white-space:pre;overflow-x:auto;line-height:normal;font-family:Menlo,'DejaVu Sans Mono',consolas,'Courier New',monospace\"><span style=\"font-weight: bold\">Model: \"sequential_2\"</span>\n",
       "</pre>\n"
      ],
      "text/plain": [
       "\u001b[1mModel: \"sequential_2\"\u001b[0m\n"
      ]
     },
     "metadata": {},
     "output_type": "display_data"
    },
    {
     "data": {
      "text/html": [
       "<pre style=\"white-space:pre;overflow-x:auto;line-height:normal;font-family:Menlo,'DejaVu Sans Mono',consolas,'Courier New',monospace\">┏━━━━━━━━━━━━━━━━━━━━━━━━━━━━━━━━━┳━━━━━━━━━━━━━━━━━━━━━━━━┳━━━━━━━━━━━━━━━┓\n",
       "┃<span style=\"font-weight: bold\"> Layer (type)                    </span>┃<span style=\"font-weight: bold\"> Output Shape           </span>┃<span style=\"font-weight: bold\">       Param # </span>┃\n",
       "┡━━━━━━━━━━━━━━━━━━━━━━━━━━━━━━━━━╇━━━━━━━━━━━━━━━━━━━━━━━━╇━━━━━━━━━━━━━━━┩\n",
       "│ dense_8 (<span style=\"color: #0087ff; text-decoration-color: #0087ff\">Dense</span>)                 │ (<span style=\"color: #00d7ff; text-decoration-color: #00d7ff\">None</span>, <span style=\"color: #00af00; text-decoration-color: #00af00\">8</span>)              │            <span style=\"color: #00af00; text-decoration-color: #00af00\">64</span> │\n",
       "├─────────────────────────────────┼────────────────────────┼───────────────┤\n",
       "│ dense_9 (<span style=\"color: #0087ff; text-decoration-color: #0087ff\">Dense</span>)                 │ (<span style=\"color: #00d7ff; text-decoration-color: #00d7ff\">None</span>, <span style=\"color: #00af00; text-decoration-color: #00af00\">8</span>)              │            <span style=\"color: #00af00; text-decoration-color: #00af00\">72</span> │\n",
       "├─────────────────────────────────┼────────────────────────┼───────────────┤\n",
       "│ dense_10 (<span style=\"color: #0087ff; text-decoration-color: #0087ff\">Dense</span>)                │ (<span style=\"color: #00d7ff; text-decoration-color: #00d7ff\">None</span>, <span style=\"color: #00af00; text-decoration-color: #00af00\">8</span>)              │            <span style=\"color: #00af00; text-decoration-color: #00af00\">72</span> │\n",
       "├─────────────────────────────────┼────────────────────────┼───────────────┤\n",
       "│ dropout_2 (<span style=\"color: #0087ff; text-decoration-color: #0087ff\">Dropout</span>)             │ (<span style=\"color: #00d7ff; text-decoration-color: #00d7ff\">None</span>, <span style=\"color: #00af00; text-decoration-color: #00af00\">8</span>)              │             <span style=\"color: #00af00; text-decoration-color: #00af00\">0</span> │\n",
       "├─────────────────────────────────┼────────────────────────┼───────────────┤\n",
       "│ dense_11 (<span style=\"color: #0087ff; text-decoration-color: #0087ff\">Dense</span>)                │ (<span style=\"color: #00d7ff; text-decoration-color: #00d7ff\">None</span>, <span style=\"color: #00af00; text-decoration-color: #00af00\">1</span>)              │             <span style=\"color: #00af00; text-decoration-color: #00af00\">9</span> │\n",
       "└─────────────────────────────────┴────────────────────────┴───────────────┘\n",
       "</pre>\n"
      ],
      "text/plain": [
       "┏━━━━━━━━━━━━━━━━━━━━━━━━━━━━━━━━━┳━━━━━━━━━━━━━━━━━━━━━━━━┳━━━━━━━━━━━━━━━┓\n",
       "┃\u001b[1m \u001b[0m\u001b[1mLayer (type)                   \u001b[0m\u001b[1m \u001b[0m┃\u001b[1m \u001b[0m\u001b[1mOutput Shape          \u001b[0m\u001b[1m \u001b[0m┃\u001b[1m \u001b[0m\u001b[1m      Param #\u001b[0m\u001b[1m \u001b[0m┃\n",
       "┡━━━━━━━━━━━━━━━━━━━━━━━━━━━━━━━━━╇━━━━━━━━━━━━━━━━━━━━━━━━╇━━━━━━━━━━━━━━━┩\n",
       "│ dense_8 (\u001b[38;5;33mDense\u001b[0m)                 │ (\u001b[38;5;45mNone\u001b[0m, \u001b[38;5;34m8\u001b[0m)              │            \u001b[38;5;34m64\u001b[0m │\n",
       "├─────────────────────────────────┼────────────────────────┼───────────────┤\n",
       "│ dense_9 (\u001b[38;5;33mDense\u001b[0m)                 │ (\u001b[38;5;45mNone\u001b[0m, \u001b[38;5;34m8\u001b[0m)              │            \u001b[38;5;34m72\u001b[0m │\n",
       "├─────────────────────────────────┼────────────────────────┼───────────────┤\n",
       "│ dense_10 (\u001b[38;5;33mDense\u001b[0m)                │ (\u001b[38;5;45mNone\u001b[0m, \u001b[38;5;34m8\u001b[0m)              │            \u001b[38;5;34m72\u001b[0m │\n",
       "├─────────────────────────────────┼────────────────────────┼───────────────┤\n",
       "│ dropout_2 (\u001b[38;5;33mDropout\u001b[0m)             │ (\u001b[38;5;45mNone\u001b[0m, \u001b[38;5;34m8\u001b[0m)              │             \u001b[38;5;34m0\u001b[0m │\n",
       "├─────────────────────────────────┼────────────────────────┼───────────────┤\n",
       "│ dense_11 (\u001b[38;5;33mDense\u001b[0m)                │ (\u001b[38;5;45mNone\u001b[0m, \u001b[38;5;34m1\u001b[0m)              │             \u001b[38;5;34m9\u001b[0m │\n",
       "└─────────────────────────────────┴────────────────────────┴───────────────┘\n"
      ]
     },
     "metadata": {},
     "output_type": "display_data"
    },
    {
     "data": {
      "text/html": [
       "<pre style=\"white-space:pre;overflow-x:auto;line-height:normal;font-family:Menlo,'DejaVu Sans Mono',consolas,'Courier New',monospace\"><span style=\"font-weight: bold\"> Total params: </span><span style=\"color: #00af00; text-decoration-color: #00af00\">217</span> (868.00 B)\n",
       "</pre>\n"
      ],
      "text/plain": [
       "\u001b[1m Total params: \u001b[0m\u001b[38;5;34m217\u001b[0m (868.00 B)\n"
      ]
     },
     "metadata": {},
     "output_type": "display_data"
    },
    {
     "data": {
      "text/html": [
       "<pre style=\"white-space:pre;overflow-x:auto;line-height:normal;font-family:Menlo,'DejaVu Sans Mono',consolas,'Courier New',monospace\"><span style=\"font-weight: bold\"> Trainable params: </span><span style=\"color: #00af00; text-decoration-color: #00af00\">217</span> (868.00 B)\n",
       "</pre>\n"
      ],
      "text/plain": [
       "\u001b[1m Trainable params: \u001b[0m\u001b[38;5;34m217\u001b[0m (868.00 B)\n"
      ]
     },
     "metadata": {},
     "output_type": "display_data"
    },
    {
     "data": {
      "text/html": [
       "<pre style=\"white-space:pre;overflow-x:auto;line-height:normal;font-family:Menlo,'DejaVu Sans Mono',consolas,'Courier New',monospace\"><span style=\"font-weight: bold\"> Non-trainable params: </span><span style=\"color: #00af00; text-decoration-color: #00af00\">0</span> (0.00 B)\n",
       "</pre>\n"
      ],
      "text/plain": [
       "\u001b[1m Non-trainable params: \u001b[0m\u001b[38;5;34m0\u001b[0m (0.00 B)\n"
      ]
     },
     "metadata": {},
     "output_type": "display_data"
    }
   ],
   "source": [
    "model = Sequential()\n",
    "model.add(Dense(8, activation='relu', input_dim=train_dataset.shape[1]))\n",
    "model.add(Dense(8, activation='relu'))\n",
    "model.add(Dense(8, activation='relu'))\n",
    "model.add(Dropout(rate=0.25))\n",
    "model.add(Dense(1))\n",
    "model.summary()\n",
    "model.compile(optimizer=Adam(beta_1=0.9, beta_2=0.999, epsilon=1e-08), loss='mean_absolute_error')"
   ]
  },
  {
   "cell_type": "markdown",
   "id": "189e4424",
   "metadata": {},
   "source": [
    "Start Tracking Memory, and Training time"
   ]
  },
  {
   "cell_type": "code",
   "execution_count": 30,
   "id": "b32b258a",
   "metadata": {},
   "outputs": [],
   "source": [
    "import psutil\n",
    "import tracemalloc\n",
    "import time as mtime\n",
    "import os\n",
    "# start training the network - record training time and memory usage\n",
    "process = psutil.Process(os.getpid())  # current process\n",
    "cpu_start = process.cpu_times().user + process.cpu_times().system\n",
    "mem_start = process.memory_info().rss  # Resident memory in bytes\n",
    "wall_start = mtime.time()\n",
    "\n",
    "tracemalloc.start()  # Optional: Python-level memory usage\n"
   ]
  },
  {
   "cell_type": "markdown",
   "id": "d1c6712e",
   "metadata": {},
   "source": [
    "Model is trained, 50 epochs are used for training"
   ]
  },
  {
   "cell_type": "code",
   "execution_count": 31,
   "id": "73354142",
   "metadata": {},
   "outputs": [
    {
     "name": "stdout",
     "output_type": "stream",
     "text": [
      "Epoch 1/20\n",
      "\u001b[1m1572/1572\u001b[0m \u001b[32m━━━━━━━━━━━━━━━━━━━━\u001b[0m\u001b[37m\u001b[0m \u001b[1m20s\u001b[0m 4ms/step - loss: 0.2359\n",
      "Epoch 2/20\n",
      "\u001b[1m1572/1572\u001b[0m \u001b[32m━━━━━━━━━━━━━━━━━━━━\u001b[0m\u001b[37m\u001b[0m \u001b[1m5s\u001b[0m 3ms/step - loss: 0.0746\n",
      "Epoch 3/20\n",
      "\u001b[1m1572/1572\u001b[0m \u001b[32m━━━━━━━━━━━━━━━━━━━━\u001b[0m\u001b[37m\u001b[0m \u001b[1m7s\u001b[0m 4ms/step - loss: 0.0723\n",
      "Epoch 4/20\n",
      "\u001b[1m1572/1572\u001b[0m \u001b[32m━━━━━━━━━━━━━━━━━━━━\u001b[0m\u001b[37m\u001b[0m \u001b[1m7s\u001b[0m 4ms/step - loss: 0.0711\n",
      "Epoch 5/20\n",
      "\u001b[1m1572/1572\u001b[0m \u001b[32m━━━━━━━━━━━━━━━━━━━━\u001b[0m\u001b[37m\u001b[0m \u001b[1m9s\u001b[0m 6ms/step - loss: 0.0703\n",
      "Epoch 6/20\n",
      "\u001b[1m1572/1572\u001b[0m \u001b[32m━━━━━━━━━━━━━━━━━━━━\u001b[0m\u001b[37m\u001b[0m \u001b[1m8s\u001b[0m 5ms/step - loss: 0.0715\n",
      "Epoch 7/20\n",
      "\u001b[1m1572/1572\u001b[0m \u001b[32m━━━━━━━━━━━━━━━━━━━━\u001b[0m\u001b[37m\u001b[0m \u001b[1m6s\u001b[0m 4ms/step - loss: 0.0702\n",
      "Epoch 8/20\n",
      "\u001b[1m1572/1572\u001b[0m \u001b[32m━━━━━━━━━━━━━━━━━━━━\u001b[0m\u001b[37m\u001b[0m \u001b[1m8s\u001b[0m 5ms/step - loss: 0.0693\n",
      "Epoch 9/20\n",
      "\u001b[1m1572/1572\u001b[0m \u001b[32m━━━━━━━━━━━━━━━━━━━━\u001b[0m\u001b[37m\u001b[0m \u001b[1m11s\u001b[0m 7ms/step - loss: 0.0701\n",
      "Epoch 10/20\n",
      "\u001b[1m1572/1572\u001b[0m \u001b[32m━━━━━━━━━━━━━━━━━━━━\u001b[0m\u001b[37m\u001b[0m \u001b[1m8s\u001b[0m 5ms/step - loss: 0.0689\n",
      "Epoch 11/20\n",
      "\u001b[1m1572/1572\u001b[0m \u001b[32m━━━━━━━━━━━━━━━━━━━━\u001b[0m\u001b[37m\u001b[0m \u001b[1m7s\u001b[0m 5ms/step - loss: 0.0697\n",
      "Epoch 12/20\n",
      "\u001b[1m1572/1572\u001b[0m \u001b[32m━━━━━━━━━━━━━━━━━━━━\u001b[0m\u001b[37m\u001b[0m \u001b[1m10s\u001b[0m 6ms/step - loss: 0.0703\n",
      "Epoch 13/20\n",
      "\u001b[1m1572/1572\u001b[0m \u001b[32m━━━━━━━━━━━━━━━━━━━━\u001b[0m\u001b[37m\u001b[0m \u001b[1m9s\u001b[0m 6ms/step - loss: 0.0704\n",
      "Epoch 14/20\n",
      "\u001b[1m1572/1572\u001b[0m \u001b[32m━━━━━━━━━━━━━━━━━━━━\u001b[0m\u001b[37m\u001b[0m \u001b[1m8s\u001b[0m 5ms/step - loss: 0.0713\n",
      "Epoch 15/20\n",
      "\u001b[1m1572/1572\u001b[0m \u001b[32m━━━━━━━━━━━━━━━━━━━━\u001b[0m\u001b[37m\u001b[0m \u001b[1m10s\u001b[0m 6ms/step - loss: 0.0712\n",
      "Epoch 16/20\n",
      "\u001b[1m1572/1572\u001b[0m \u001b[32m━━━━━━━━━━━━━━━━━━━━\u001b[0m\u001b[37m\u001b[0m \u001b[1m8s\u001b[0m 5ms/step - loss: 0.0683\n",
      "Epoch 17/20\n",
      "\u001b[1m1572/1572\u001b[0m \u001b[32m━━━━━━━━━━━━━━━━━━━━\u001b[0m\u001b[37m\u001b[0m \u001b[1m8s\u001b[0m 5ms/step - loss: 0.0646\n",
      "Epoch 18/20\n",
      "\u001b[1m1572/1572\u001b[0m \u001b[32m━━━━━━━━━━━━━━━━━━━━\u001b[0m\u001b[37m\u001b[0m \u001b[1m7s\u001b[0m 5ms/step - loss: 0.0648\n",
      "Epoch 19/20\n",
      "\u001b[1m1572/1572\u001b[0m \u001b[32m━━━━━━━━━━━━━━━━━━━━\u001b[0m\u001b[37m\u001b[0m \u001b[1m8s\u001b[0m 5ms/step - loss: 0.0658\n",
      "Epoch 20/20\n",
      "\u001b[1m1572/1572\u001b[0m \u001b[32m━━━━━━━━━━━━━━━━━━━━\u001b[0m\u001b[37m\u001b[0m \u001b[1m8s\u001b[0m 5ms/step - loss: 0.0645\n"
     ]
    }
   ],
   "source": [
    "#history = model.fit(x = train_dataset, y = SoC.to_numpy(), epochs = 20, batch_size=1)\n",
    "\n",
    "# Batch = 32\n",
    "history = model.fit(x = train_dataset, y = SoC.to_numpy(), epochs = 20)"
   ]
  },
  {
   "cell_type": "code",
   "execution_count": 32,
   "id": "d071381f",
   "metadata": {},
   "outputs": [
    {
     "name": "stdout",
     "output_type": "stream",
     "text": [
      "\n",
      "Training Completed ✅\n",
      "Wall-clock Time     : 174.67 seconds\n",
      "CPU Time (User+Sys) : 183.61 seconds\n",
      "Memory Usage Change : -257.59 MB\n",
      "Memory at End       : 87.31 MB\n",
      "Peak Memory (Python): 85.74 MB\n"
     ]
    }
   ],
   "source": [
    "wall_end = mtime.time()\n",
    "cpu_end = process.cpu_times().user + process.cpu_times().system\n",
    "mem_end = process.memory_info().rss\n",
    "_, peakRam = tracemalloc.get_traced_memory()\n",
    "tracemalloc.stop()\n",
    "\n",
    "# Report results\n",
    "print(\"\\nTraining Completed ✅\")\n",
    "print(f\"Wall-clock Time     : {wall_end - wall_start:.2f} seconds\")\n",
    "print(f\"CPU Time (User+Sys) : {cpu_end - cpu_start:.2f} seconds\")\n",
    "print(f\"Memory Usage Change : {(mem_end - mem_start) / (1024**2):.2f} MB\")\n",
    "print(f\"Memory at End       : {mem_end / (1024 ** 2):.2f} MB\")\n",
    "print(f\"Peak Memory (Python): {peakRam / (1024 ** 2):.2f} MB\")\n",
    "\n",
    "analysis_result = []\n",
    "analysis_result.append(history.history['loss'][-1])  # Final loss value\n",
    "analysis_result.append(wall_end - wall_start)\n",
    "analysis_result.append(cpu_end - cpu_start)  # CPU time in seconds\n",
    "analysis_result.append((mem_end - mem_start) / (1024 ** 2))  # Memory usage change in MB\n",
    "analysis_result.append(peakRam / (1024 ** 2))  # convert to MB\n",
    "analysis_result.append(mem_end / (1024 ** 2))  # convert to MB"
   ]
  },
  {
   "cell_type": "markdown",
   "id": "0b771691",
   "metadata": {},
   "source": [
    "# Testing SoH prediction model\n",
    "load the testing battery dataset"
   ]
  },
  {
   "cell_type": "code",
   "execution_count": 33,
   "id": "c35cd746",
   "metadata": {},
   "outputs": [
    {
     "name": "stdout",
     "output_type": "stream",
     "text": [
      "Total data in dataset:  616\n",
      "[1, np.uint8(24), datetime.datetime(2008, 4, 2, 15, 25, 41), np.float64(2.035337591005598), np.float64(4.179799607333447), np.float64(-0.0023663271409738672), np.float64(24.277567510331888), np.float64(-0.0006), np.float64(0.0), np.float64(0.0)]\n",
      "            SoC\n",
      "49685  0.000000\n",
      "49686  0.000000\n",
      "49687  1.000000\n",
      "49688  0.999999\n",
      "49689  0.995137\n",
      "...         ...\n",
      "50280  0.000000\n",
      "50281  0.000000\n",
      "50282  0.000000\n",
      "50283  0.000000\n",
      "50284  0.000000\n",
      "\n",
      "[600 rows x 1 columns]\n"
     ]
    }
   ],
   "source": [
    "dataset_val, capacity_val = load_data('B0006')\n",
    "\n",
    "attrib = ['cycle', 'time', 'capacity', 'current_measured']\n",
    "soc_data_test = dataset_val[attrib].copy()\n",
    "SoC_test = [1.0]  # Initial SoC\n",
    "\n",
    "for i in range(1, len(soc_data)):\n",
    "    if soc_data_test['cycle'][i] != soc_data_test['cycle'][i - 1]:\n",
    "        # Reset SoC to 1.0 at the beginning of each cycle\n",
    "        SoC_test.append(1.0)\n",
    "        continue\n",
    "    ptime = soc_data_test['time'][i - 1]\n",
    "    ctime = soc_data_test['time'][i]\n",
    "    pSoc = SoC_test[i - 1]\n",
    "    capacity = soc_data_test['capacity'][i]\n",
    "    current = soc_data_test['current_measured'][i]\n",
    "    SoC_test.append(CalculateSoC(pSoc, capacity, current, ptime, ctime))\n",
    "\n",
    "SoC_test_table = pd.DataFrame(data=SoC_test, columns=['SoC'])\n",
    "print(SoC_test_table.tail(600))"
   ]
  },
  {
   "cell_type": "markdown",
   "id": "2157b98a",
   "metadata": {},
   "source": [
    "Create table for real SoH vs predicted SoH, calculate mean square error"
   ]
  },
  {
   "cell_type": "code",
   "execution_count": 34,
   "id": "f4d12c5c",
   "metadata": {},
   "outputs": [
    {
     "name": "stdout",
     "output_type": "stream",
     "text": [
      "\u001b[1m1572/1572\u001b[0m \u001b[32m━━━━━━━━━━━━━━━━━━━━\u001b[0m\u001b[37m\u001b[0m \u001b[1m2s\u001b[0m 1ms/step\n",
      "Testing Time:%d 4.593478441238403\n",
      "(50285, 1)\n",
      "     cycle      time  actual SoC  predicted SoC\n",
      "0        1     0.000    1.000000       0.881626\n",
      "1        1    16.781    1.000000       0.881664\n",
      "2        1    35.703    0.994798       0.883608\n",
      "3        1    53.781    0.989842       0.877421\n",
      "4        1    71.922    0.984858       0.872328\n",
      "..     ...       ...         ...            ...\n",
      "195      1  3669.875    0.000000       0.006727\n",
      "196      1  3690.234    0.000000       0.007696\n",
      "197      2     0.000    1.000000       0.878599\n",
      "198      2    16.672    1.000000       0.879260\n",
      "199      2    35.703    0.994748       0.883002\n",
      "\n",
      "[200 rows x 4 columns]\n"
     ]
    }
   ],
   "source": [
    "attrib=['capacity', 'voltage_measured', 'current_measured',\n",
    "        'temperature_measured', 'current_load', 'voltage_load', 'time']\n",
    "\n",
    "start_time = mtime.time()  # for record testing time\n",
    "soc_pred = model.predict(sc.fit_transform(dataset_val[attrib]))\n",
    "end_time = mtime.time()\n",
    "print(\"Testing Time:%d\", end_time - start_time)\n",
    "analysis_result.append(end_time-start_time)\n",
    "\n",
    "print(soc_pred.shape)\n",
    "soc_pred_series = pd.Series(soc_pred.ravel(), name='predicted SoC')\n",
    "combined_df = pd.concat([\n",
    "    dataset_val['cycle'].reset_index(drop=True),\n",
    "    dataset_val['time'].reset_index(drop=True),\n",
    "    SoC_test_table['SoC'].reset_index(drop=True),\n",
    "    soc_pred_series.reset_index(drop=True)\n",
    "], axis=1)\n",
    "combined_df.columns = ['cycle','time' ,'actual SoC', 'predicted SoC']\n",
    "print(combined_df.head(200))\n",
    "\n"
   ]
  },
  {
   "cell_type": "code",
   "execution_count": 35,
   "id": "4dcde4a0",
   "metadata": {},
   "outputs": [
    {
     "name": "stdout",
     "output_type": "stream",
     "text": [
      "Global RMSE: 0.04999\n"
     ]
    }
   ],
   "source": [
    "# Ensure output directory exists\n",
    "output_dir = \"ann_soc_estimation_batch32\"\n",
    "os.makedirs(output_dir, exist_ok=True)\n",
    "\n",
    "# Append global RMSE to analysis_result\n",
    "rmse_global = np.sqrt(mean_squared_error(combined_df['actual SoC'], combined_df['predicted SoC']))\n",
    "print(f\"Global RMSE: {rmse_global:.5f}\")\n",
    "analysis_result.append(rmse_global)\n",
    "\n",
    "# Save combined_df to CSV\n",
    "combined_df.to_csv(os.path.join(output_dir, \"ann_simulation_result.csv\"), index=False)\n",
    "\n",
    "# Prepare and save analysis_result to CSV (vertical with labels)\n",
    "analysis_labels = [\n",
    "    \"Final Training Loss\",\n",
    "    \"Wall Clock Time (s)\",\n",
    "    \"CPU Time (s)\",\n",
    "    \"Memory Usage Δ (MB)\",\n",
    "    \"Peak RAM Usage (MB)\",\n",
    "    \"Final Memory Usage (MB)\",\n",
    "    \"Prediction Time (s)\",\n",
    "    \"Global RMSE\"\n",
    "]\n",
    "\n",
    "analysis_df = pd.DataFrame({\n",
    "    \"Metric\": analysis_labels,\n",
    "    \"Value\": analysis_result\n",
    "})\n",
    "\n",
    "analysis_df.to_csv(os.path.join(output_dir, \"ann_prediction_result.csv\"), index=False)\n",
    "\n",
    "# Plot and save figures for selected cycles\n",
    "for cycle_id in [1, 10, 90, 150]:\n",
    "    cycle_data = combined_df[combined_df['cycle'] == cycle_id]\n",
    "\n",
    "    plt.figure(figsize=(8, 4))\n",
    "    plt.plot(cycle_data['time'], cycle_data['actual SoC'], label='Actual SoC', linewidth=2)\n",
    "    plt.plot(cycle_data['time'], cycle_data['predicted SoC'], label='Predicted SoC', linestyle='--', linewidth=2)\n",
    "\n",
    "    plt.title(f\"SoC vs Time — Cycle {cycle_id}\")\n",
    "    plt.xlabel(\"Time (s)\")\n",
    "    plt.ylabel(\"State of Charge (SoC)\")\n",
    "    plt.legend()\n",
    "    plt.grid(True)\n",
    "    plt.tight_layout()\n",
    "\n",
    "    # Save plot\n",
    "    plot_filename = f\"soc_vs_time_cycle_{cycle_id}.png\"\n",
    "    plt.savefig(os.path.join(output_dir, plot_filename))\n",
    "    plt.close()"
   ]
  }
 ],
 "metadata": {
  "kernelspec": {
   "display_name": "myvenv",
   "language": "python",
   "name": "python3"
  },
  "language_info": {
   "codemirror_mode": {
    "name": "ipython",
    "version": 3
   },
   "file_extension": ".py",
   "mimetype": "text/x-python",
   "name": "python",
   "nbconvert_exporter": "python",
   "pygments_lexer": "ipython3",
   "version": "3.9.11"
  }
 },
 "nbformat": 4,
 "nbformat_minor": 5
}
